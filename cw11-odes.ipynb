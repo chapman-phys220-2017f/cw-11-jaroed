{
 "cells": [
  {
   "cell_type": "markdown",
   "metadata": {
    "collapsed": false
   },
   "source": [
    "# PHYS220 CW 11\n",
    "Author(s): Jarod Penniman and Jared Love"
   ]
  },
  {
   "cell_type": "markdown",
   "metadata": {
    "collapsed": false
   },
   "source": [
    "### Euler's Method (accurate to 1st-order):\n",
    "\n",
    "$$u_{k+1} = u_k + \\Delta t\\, f[t_k, u_k]$$\n",
    "\n",
    "##### Summary:\n",
    "\n",
    "Euler's Method uses the derivative of the current range value to approximate the next range value.  This method requires somewhat of a small meshspacing for $\\Delta t\\,$ so that the approximation can be close to the actual function.  By having this small meshspacing, it creates a more exact representation of the actual function we are approximating.  It is accurate to first order, meaning that a smaller meshspacing is needed to obtain a more accurate result.\n",
    "\n",
    "### Leapfrog (Midpoint) Method (accurate to 2nd-order):\n",
    "\n",
    "$$u_{k+1} = u_{k-1} + 2 \\Delta t\\, f[t_k, u_k]$$\n",
    "\n",
    "##### Summary:\n",
    "\n",
    "The Leapfrog Method uses the previous range value as well as the derivative at the current point to approximate the next range value.  This method is accurate to second order and was significantly more accurate while approximating by hand.  We used a similar meshspacing in our notebook compared to what we used for Euler's method and were still able to obtain more accurate results.  To calculate $u_1$ you need to use the forward difference formula.  From there you can use the Leapfrog Method as defined. \n",
    "\n",
    "### Heun's (Trapezoid) Method (accurate to 2nd-order):\n",
    "\n",
    "$$\\tilde{u}_{k+1} = u_k + \\Delta t\\, f[t_k, u_k]$$\n",
    "\n",
    "$$u_{k+1} = u_k + (\\Delta t/2)(f[t_k, u_k] + f[t_{k+1}, \\tilde{u}_{k+1}])$$\n",
    "\n",
    "##### Summary:\n",
    "\n",
    "Heun's Method uses the average derivative between the slope of the current point and the slope after the next meshspacing.  This method, like the others we have disscussed, needs a small meshspacing in order to properly approximate the function.  If the meshspacing is too large, then the possible error for the approximation becomes more pronounced. This method is accurate up to the second order.  In the first step of this method, we are using Euler's method to approximate the first point.  The second step is taking the derivative at the approximated point due to Euler's method, then averages.\n",
    "\n",
    "### 2nd-Order Runge-Kutta Method (accurate to 2nd-order):\n",
    "\n",
    "$$u_{k+1} = u_k + K_2$$\n",
    "\n",
    "$$K_1 = \\Delta t\\, f[t_k, u_k]$$\n",
    "\n",
    "$$K_2 = \\Delta t\\, f[t_k + \\Delta t/2, u_k + K_1/2]$$\n",
    "\n",
    "##### Summary:\n",
    "\n",
    "The 2nd-Order Runge-Kutta Method takes a linear approximation at the initial point and projects it to the next meshspacing.  Then, it takes half of the projected change in range and approximates the derivative at the domain value that corresponds to half of the original projection.  With the derivative at the second point of interest, it projects for the original meshspacing.  This method is accurate up to second order.  This method and Heun's method is similar but Runge-Kutta takes the derivative at the approximated midpoint and it applies it over the entire time slice, rather than taking the average.\n",
    "\n",
    "### 4th-Order Runge-Kutta Method (accurate to the 4th-order):\n",
    "\n",
    "$$u_{k+1} = u_k + (K_1 + 2K_2 + 2K_3 + K_4)/6$$\n",
    "\n",
    "$$K_1 = \\Delta t\\,f[t_k,u_k]$$\n",
    "\n",
    "$$K_2 = \\Delta t\\, f[t_k + \\Delta t/2, u_k + K_1/2]$$\n",
    "\n",
    "$$K_3 = \\Delta t\\, f[t_k + \\Delta t/2, u_k + K_2/2]$$\n",
    "\n",
    "$$K_4 = \\Delta t\\,f[t_k + \\Delta t, u_k + K_3]$$\n",
    "\n",
    "\n",
    "##### Summary:\n",
    "\n",
    "The 4th-Order Runge-Kutta Method does two iterations of the previous method and combines them with the slope of the current point and the slope of the next point.  The middle increments are more heavily weighted because the middle behavior of the function is more important to finding the end point than the end points of the function.  This method is accurate to 4th order."
   ]
  }
 ],
 "metadata": {
  "kernelspec": {
   "display_name": "Python 3 (Anaconda)",
   "language": "python",
   "name": "anaconda3"
  },
  "language_info": {
   "codemirror_mode": {
    "name": "ipython",
    "version": 3
   },
   "file_extension": ".py",
   "mimetype": "text/x-python",
   "name": "python",
   "nbconvert_exporter": "python",
   "pygments_lexer": "ipython3",
   "version": "3.5.4"
  }
 },
 "nbformat": 4,
 "nbformat_minor": 0
}